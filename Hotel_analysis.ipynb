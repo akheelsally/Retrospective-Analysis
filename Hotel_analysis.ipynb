{
 "cells": [
  {
   "cell_type": "markdown",
   "metadata": {},
   "source": [
    "### Question to awnser\n",
    "<ol>\n",
    "<li>[most frequently booked room nubmber](#freq_room)</li>\n",
    "<li>[ratio of booking request type](#ratio)</li>\n",
    "<li>[avarege hotel stay](#stay)</li>\n",
    "<li>[most profitable services and which segement used them](#service)</li>\n",
    "<li>[most profitable rooms types](#revennue)</li>\n",
    "</ol>\n",
    "\n"
   ]
  },
  {
   "cell_type": "code",
   "execution_count": 1,
   "metadata": {
    "collapsed": true
   },
   "outputs": [],
   "source": [
    "import pandas as pd\n",
    "import numpy as np\n",
    "import matplotlib.pyplot as plt\n",
    "%matplotlib inline\n",
    "import seaborn as sns\n",
    "import datetime"
   ]
  },
  {
   "cell_type": "markdown",
   "metadata": {},
   "source": [
    "## Reading in and cleaning data\n"
   ]
  },
  {
   "cell_type": "code",
   "execution_count": 2,
   "metadata": {
    "collapsed": false
   },
   "outputs": [
    {
     "data": {
      "text/html": [
       "<div>\n",
       "<table border=\"1\" class=\"dataframe\">\n",
       "  <thead>\n",
       "    <tr style=\"text-align: right;\">\n",
       "      <th></th>\n",
       "      <th>id</th>\n",
       "      <th>room</th>\n",
       "      <th>start date</th>\n",
       "      <th>end date</th>\n",
       "      <th>request id</th>\n",
       "    </tr>\n",
       "  </thead>\n",
       "  <tbody>\n",
       "    <tr>\n",
       "      <th>0</th>\n",
       "      <td>1</td>\n",
       "      <td>L0</td>\n",
       "      <td>2016-02-07</td>\n",
       "      <td>2016-02-10</td>\n",
       "      <td>1</td>\n",
       "    </tr>\n",
       "    <tr>\n",
       "      <th>1</th>\n",
       "      <td>2</td>\n",
       "      <td>L0</td>\n",
       "      <td>2016-03-13</td>\n",
       "      <td>2016-03-21</td>\n",
       "      <td>2</td>\n",
       "    </tr>\n",
       "    <tr>\n",
       "      <th>2</th>\n",
       "      <td>3</td>\n",
       "      <td>D2</td>\n",
       "      <td>2016-02-19</td>\n",
       "      <td>2016-02-20</td>\n",
       "      <td>3</td>\n",
       "    </tr>\n",
       "    <tr>\n",
       "      <th>3</th>\n",
       "      <td>4</td>\n",
       "      <td>X0</td>\n",
       "      <td>2016-01-22</td>\n",
       "      <td>2016-01-26</td>\n",
       "      <td>4</td>\n",
       "    </tr>\n",
       "    <tr>\n",
       "      <th>4</th>\n",
       "      <td>5</td>\n",
       "      <td>L0</td>\n",
       "      <td>2016-02-22</td>\n",
       "      <td>2016-02-26</td>\n",
       "      <td>5</td>\n",
       "    </tr>\n",
       "  </tbody>\n",
       "</table>\n",
       "</div>"
      ],
      "text/plain": [
       "   id room start date   end date  request id\n",
       "0   1   L0 2016-02-07 2016-02-10           1\n",
       "1   2   L0 2016-03-13 2016-03-21           2\n",
       "2   3   D2 2016-02-19 2016-02-20           3\n",
       "3   4   X0 2016-01-22 2016-01-26           4\n",
       "4   5   L0 2016-02-22 2016-02-26           5"
      ]
     },
     "execution_count": 2,
     "metadata": {},
     "output_type": "execute_result"
    }
   ],
   "source": [
    "bookings = pd.read_table(\"D:/hotel analysis/bookings.txt\",delimiter=\"|\",parse_dates=[2,3])\n",
    "bookings.head()"
   ]
  },
  {
   "cell_type": "code",
   "execution_count": 3,
   "metadata": {
    "collapsed": false
   },
   "outputs": [
    {
     "name": "stdout",
     "output_type": "stream",
     "text": [
      "<class 'pandas.core.frame.DataFrame'>\n",
      "RangeIndex: 10346 entries, 0 to 10345\n",
      "Data columns (total 5 columns):\n",
      "id            10346 non-null int64\n",
      "room          10346 non-null object\n",
      "start date    10346 non-null datetime64[ns]\n",
      "end date      10346 non-null datetime64[ns]\n",
      "request id    10346 non-null int64\n",
      "dtypes: datetime64[ns](2), int64(2), object(1)\n",
      "memory usage: 404.2+ KB\n"
     ]
    }
   ],
   "source": [
    "bookings.info()"
   ]
  },
  {
   "cell_type": "code",
   "execution_count": 4,
   "metadata": {
    "collapsed": false
   },
   "outputs": [],
   "source": [
    "cols = [ i.replace(\" \",\"_\") for i in bookings.columns]\n",
    "bookings.columns = cols"
   ]
  },
  {
   "cell_type": "code",
   "execution_count": 5,
   "metadata": {
    "collapsed": false
   },
   "outputs": [
    {
     "data": {
      "text/plain": [
       "1918   1916-01-07\n",
       "6455   1916-02-29\n",
       "9515   1916-03-01\n",
       "Name: start_date, dtype: datetime64[ns]"
      ]
     },
     "execution_count": 5,
     "metadata": {},
     "output_type": "execute_result"
    }
   ],
   "source": [
    "bookings.loc[bookings.start_date < datetime.date(2000,1,1),'start_date']"
   ]
  },
  {
   "cell_type": "code",
   "execution_count": 6,
   "metadata": {
    "collapsed": false
   },
   "outputs": [],
   "source": [
    "#fixing mellinium bug issue for certain entries eg: 2016 parsed as 1916\n",
    "bookings.start_date = bookings.start_date.apply(lambda x: x.replace(year=2016) if x < datetime.datetime(2016,1,1) else x)\n",
    "bookings.end_date = bookings.end_date.apply(lambda x: x.replace(year=2016) if x < datetime.datetime(2016,1,1) else x)"
   ]
  },
  {
   "cell_type": "code",
   "execution_count": 7,
   "metadata": {
    "collapsed": false
   },
   "outputs": [
    {
     "data": {
      "text/html": [
       "<div>\n",
       "<table border=\"1\" class=\"dataframe\">\n",
       "  <thead>\n",
       "    <tr style=\"text-align: right;\">\n",
       "      <th></th>\n",
       "      <th>dest_room</th>\n",
       "      <th>bill_room</th>\n",
       "      <th>date</th>\n",
       "      <th>time</th>\n",
       "      <th>#orders</th>\n",
       "      <th>menu_id</th>\n",
       "    </tr>\n",
       "  </thead>\n",
       "  <tbody>\n",
       "    <tr>\n",
       "      <th>0</th>\n",
       "      <td>L0</td>\n",
       "      <td>L0</td>\n",
       "      <td>2016-02-09</td>\n",
       "      <td>2016-09-27 10:15:00</td>\n",
       "      <td>3</td>\n",
       "      <td>6</td>\n",
       "    </tr>\n",
       "    <tr>\n",
       "      <th>1</th>\n",
       "      <td>restaurant</td>\n",
       "      <td>L0</td>\n",
       "      <td>2016-02-07</td>\n",
       "      <td>2016-09-27 11:35:00</td>\n",
       "      <td>5</td>\n",
       "      <td>8</td>\n",
       "    </tr>\n",
       "    <tr>\n",
       "      <th>2</th>\n",
       "      <td>L0</td>\n",
       "      <td>L0</td>\n",
       "      <td>2016-03-17</td>\n",
       "      <td>2016-09-27 06:54:00</td>\n",
       "      <td>5</td>\n",
       "      <td>12</td>\n",
       "    </tr>\n",
       "    <tr>\n",
       "      <th>3</th>\n",
       "      <td>restaurant</td>\n",
       "      <td>L0</td>\n",
       "      <td>2016-03-15</td>\n",
       "      <td>2016-09-27 17:53:00</td>\n",
       "      <td>4</td>\n",
       "      <td>7</td>\n",
       "    </tr>\n",
       "    <tr>\n",
       "      <th>4</th>\n",
       "      <td>L0</td>\n",
       "      <td>L0</td>\n",
       "      <td>2016-03-16</td>\n",
       "      <td>2016-09-27 14:54:00</td>\n",
       "      <td>5</td>\n",
       "      <td>7</td>\n",
       "    </tr>\n",
       "  </tbody>\n",
       "</table>\n",
       "</div>"
      ],
      "text/plain": [
       "    dest_room bill_room       date                time  #orders  menu_id\n",
       "0          L0        L0 2016-02-09 2016-09-27 10:15:00        3        6\n",
       "1  restaurant        L0 2016-02-07 2016-09-27 11:35:00        5        8\n",
       "2          L0        L0 2016-03-17 2016-09-27 06:54:00        5       12\n",
       "3  restaurant        L0 2016-03-15 2016-09-27 17:53:00        4        7\n",
       "4          L0        L0 2016-03-16 2016-09-27 14:54:00        5        7"
      ]
     },
     "execution_count": 7,
     "metadata": {},
     "output_type": "execute_result"
    }
   ],
   "source": [
    "food_orders = pd.read_table(\"D:/hotel analysis/food_orders.txt\",delimiter=\"|\",parse_dates=[2,3])\n",
    "cols = [ i.replace(\" \",\"_\") for i in food_orders.columns]\n",
    "food_orders.columns = cols\n",
    "food_orders.head()"
   ]
  },
  {
   "cell_type": "code",
   "execution_count": 8,
   "metadata": {
    "collapsed": false
   },
   "outputs": [
    {
     "name": "stdout",
     "output_type": "stream",
     "text": [
      "<class 'pandas.core.frame.DataFrame'>\n",
      "RangeIndex: 2965 entries, 0 to 2964\n",
      "Data columns (total 6 columns):\n",
      "dest_room    2965 non-null object\n",
      "bill_room    2965 non-null object\n",
      "date         2965 non-null datetime64[ns]\n",
      "time         2965 non-null datetime64[ns]\n",
      "#orders      2965 non-null int64\n",
      "menu_id      2965 non-null int64\n",
      "dtypes: datetime64[ns](2), int64(2), object(2)\n",
      "memory usage: 139.1+ KB\n"
     ]
    }
   ],
   "source": [
    "food_orders.info()"
   ]
  },
  {
   "cell_type": "code",
   "execution_count": 9,
   "metadata": {
    "collapsed": false
   },
   "outputs": [
    {
     "data": {
      "text/html": [
       "<div>\n",
       "<table border=\"1\" class=\"dataframe\">\n",
       "  <thead>\n",
       "    <tr style=\"text-align: right;\">\n",
       "      <th></th>\n",
       "      <th>request_id</th>\n",
       "      <th>client_name</th>\n",
       "      <th>room_type</th>\n",
       "      <th>request_type</th>\n",
       "      <th>start_date</th>\n",
       "      <th>end_date</th>\n",
       "      <th>#adults</th>\n",
       "      <th>#children</th>\n",
       "    </tr>\n",
       "  </thead>\n",
       "  <tbody>\n",
       "    <tr>\n",
       "      <th>0</th>\n",
       "      <td>1</td>\n",
       "      <td>Dr. Iza Gerhold</td>\n",
       "      <td>conference_room_large</td>\n",
       "      <td>conference</td>\n",
       "      <td>2016-02-07</td>\n",
       "      <td>2016-02-10</td>\n",
       "      <td>27</td>\n",
       "      <td>0</td>\n",
       "    </tr>\n",
       "    <tr>\n",
       "      <th>1</th>\n",
       "      <td>2</td>\n",
       "      <td>Ila Sawayn</td>\n",
       "      <td>conference_room_large</td>\n",
       "      <td>conference</td>\n",
       "      <td>2016-03-13</td>\n",
       "      <td>2016-03-21</td>\n",
       "      <td>22</td>\n",
       "      <td>0</td>\n",
       "    </tr>\n",
       "    <tr>\n",
       "      <th>2</th>\n",
       "      <td>3</td>\n",
       "      <td>Iverson McCullough</td>\n",
       "      <td>double_room</td>\n",
       "      <td>business</td>\n",
       "      <td>2016-02-19</td>\n",
       "      <td>2016-02-20</td>\n",
       "      <td>2</td>\n",
       "      <td>1</td>\n",
       "    </tr>\n",
       "    <tr>\n",
       "      <th>3</th>\n",
       "      <td>4</td>\n",
       "      <td>Katharyn Goyette DVM</td>\n",
       "      <td>deluxe_room</td>\n",
       "      <td>business</td>\n",
       "      <td>2016-01-22</td>\n",
       "      <td>2016-01-26</td>\n",
       "      <td>1</td>\n",
       "      <td>0</td>\n",
       "    </tr>\n",
       "    <tr>\n",
       "      <th>4</th>\n",
       "      <td>5</td>\n",
       "      <td>Deloris Vandervort</td>\n",
       "      <td>conference_room_large</td>\n",
       "      <td>party</td>\n",
       "      <td>2016-02-22</td>\n",
       "      <td>2016-02-26</td>\n",
       "      <td>24</td>\n",
       "      <td>26</td>\n",
       "    </tr>\n",
       "  </tbody>\n",
       "</table>\n",
       "</div>"
      ],
      "text/plain": [
       "   request_id           client_name              room_type request_type  \\\n",
       "0           1       Dr. Iza Gerhold  conference_room_large   conference   \n",
       "1           2            Ila Sawayn  conference_room_large   conference   \n",
       "2           3    Iverson McCullough            double_room     business   \n",
       "3           4  Katharyn Goyette DVM            deluxe_room     business   \n",
       "4           5    Deloris Vandervort  conference_room_large        party   \n",
       "\n",
       "  start_date   end_date  #adults  #children  \n",
       "0 2016-02-07 2016-02-10       27          0  \n",
       "1 2016-03-13 2016-03-21       22          0  \n",
       "2 2016-02-19 2016-02-20        2          1  \n",
       "3 2016-01-22 2016-01-26        1          0  \n",
       "4 2016-02-22 2016-02-26       24         26  "
      ]
     },
     "execution_count": 9,
     "metadata": {},
     "output_type": "execute_result"
    }
   ],
   "source": [
    "request = pd.read_table(\"D:/hotel analysis/request.txt\",delimiter=\"|\",parse_dates=[4,5])\n",
    "cols = [ i.replace(\" \",\"_\") for i in request.columns]\n",
    "request.columns = cols\n",
    "request.head()"
   ]
  },
  {
   "cell_type": "code",
   "execution_count": 10,
   "metadata": {
    "collapsed": false
   },
   "outputs": [
    {
     "name": "stdout",
     "output_type": "stream",
     "text": [
      "<class 'pandas.core.frame.DataFrame'>\n",
      "RangeIndex: 5000 entries, 0 to 4999\n",
      "Data columns (total 8 columns):\n",
      "request_id      5000 non-null int64\n",
      "client_name     5000 non-null object\n",
      "room_type       5000 non-null object\n",
      "request_type    5000 non-null object\n",
      "start_date      5000 non-null datetime64[ns]\n",
      "end_date        5000 non-null datetime64[ns]\n",
      "#adults         5000 non-null int64\n",
      "#children       5000 non-null int64\n",
      "dtypes: datetime64[ns](2), int64(3), object(3)\n",
      "memory usage: 312.6+ KB\n"
     ]
    }
   ],
   "source": [
    "request.info()"
   ]
  },
  {
   "cell_type": "code",
   "execution_count": 11,
   "metadata": {
    "collapsed": false
   },
   "outputs": [
    {
     "name": "stdout",
     "output_type": "stream",
     "text": [
      "normal_room              1024\n",
      "conference_room_small    1015\n",
      "deluxe_room              1005\n",
      "double_room               998\n",
      "conference_room_large     954\n",
      "Double_room                 4\n",
      "Name: room_type, dtype: int64\n"
     ]
    }
   ],
   "source": [
    "print(request.room_type.value_counts())"
   ]
  },
  {
   "cell_type": "code",
   "execution_count": 12,
   "metadata": {
    "collapsed": false
   },
   "outputs": [
    {
     "name": "stdout",
     "output_type": "stream",
     "text": [
      "holiday       1544\n",
      "business      1482\n",
      "wedding        673\n",
      "conference     651\n",
      "party          645\n",
      "vacation         5\n",
      "Name: request_type, dtype: int64\n"
     ]
    }
   ],
   "source": [
    "print(request.request_type.value_counts())"
   ]
  },
  {
   "cell_type": "code",
   "execution_count": 13,
   "metadata": {
    "collapsed": false
   },
   "outputs": [],
   "source": [
    "#fixing typp errors for room type\n",
    "request.loc[(request['room_type'] == \"double_room\") | (request['room_type'] == \"Double_room\"),'room_type'] = \"double_room\""
   ]
  },
  {
   "cell_type": "code",
   "execution_count": 14,
   "metadata": {
    "collapsed": false
   },
   "outputs": [
    {
     "data": {
      "text/html": [
       "<div>\n",
       "<table border=\"1\" class=\"dataframe\">\n",
       "  <thead>\n",
       "    <tr style=\"text-align: right;\">\n",
       "      <th></th>\n",
       "      <th>id</th>\n",
       "      <th>name</th>\n",
       "      <th>price</th>\n",
       "      <th>category</th>\n",
       "    </tr>\n",
       "  </thead>\n",
       "  <tbody>\n",
       "    <tr>\n",
       "      <th>0</th>\n",
       "      <td>0</td>\n",
       "      <td>water</td>\n",
       "      <td>2.5</td>\n",
       "      <td>drink</td>\n",
       "    </tr>\n",
       "    <tr>\n",
       "      <th>1</th>\n",
       "      <td>1</td>\n",
       "      <td>soft-drink</td>\n",
       "      <td>3.0</td>\n",
       "      <td>drink</td>\n",
       "    </tr>\n",
       "    <tr>\n",
       "      <th>2</th>\n",
       "      <td>2</td>\n",
       "      <td>beer</td>\n",
       "      <td>3.5</td>\n",
       "      <td>alcoholic-drink</td>\n",
       "    </tr>\n",
       "    <tr>\n",
       "      <th>3</th>\n",
       "      <td>3</td>\n",
       "      <td>wine</td>\n",
       "      <td>3.5</td>\n",
       "      <td>alcoholic-drink</td>\n",
       "    </tr>\n",
       "    <tr>\n",
       "      <th>4</th>\n",
       "      <td>4</td>\n",
       "      <td>simple-breakfast</td>\n",
       "      <td>5.0</td>\n",
       "      <td>breakfast</td>\n",
       "    </tr>\n",
       "  </tbody>\n",
       "</table>\n",
       "</div>"
      ],
      "text/plain": [
       "   id              name  price         category\n",
       "0   0             water    2.5            drink\n",
       "1   1        soft-drink    3.0            drink\n",
       "2   2              beer    3.5  alcoholic-drink\n",
       "3   3              wine    3.5  alcoholic-drink\n",
       "4   4  simple-breakfast    5.0        breakfast"
      ]
     },
     "execution_count": 14,
     "metadata": {},
     "output_type": "execute_result"
    }
   ],
   "source": [
    "menu = pd.read_table(\"D:/hotel analysis/menu.txt\",delimiter=\"|\")\n",
    "menu.head()"
   ]
  },
  {
   "cell_type": "code",
   "execution_count": 15,
   "metadata": {
    "collapsed": false
   },
   "outputs": [
    {
     "data": {
      "text/html": [
       "<div>\n",
       "<table border=\"1\" class=\"dataframe\">\n",
       "  <thead>\n",
       "    <tr style=\"text-align: right;\">\n",
       "      <th></th>\n",
       "      <th>id</th>\n",
       "      <th>price/day</th>\n",
       "      <th>capacity</th>\n",
       "      <th>type</th>\n",
       "      <th>prefix</th>\n",
       "    </tr>\n",
       "  </thead>\n",
       "  <tbody>\n",
       "    <tr>\n",
       "      <th>0</th>\n",
       "      <td>1</td>\n",
       "      <td>150</td>\n",
       "      <td>3</td>\n",
       "      <td>deluxe_room</td>\n",
       "      <td>X</td>\n",
       "    </tr>\n",
       "    <tr>\n",
       "      <th>1</th>\n",
       "      <td>2</td>\n",
       "      <td>100</td>\n",
       "      <td>3</td>\n",
       "      <td>double_room</td>\n",
       "      <td>D</td>\n",
       "    </tr>\n",
       "    <tr>\n",
       "      <th>2</th>\n",
       "      <td>3</td>\n",
       "      <td>80</td>\n",
       "      <td>15</td>\n",
       "      <td>conference_room_small</td>\n",
       "      <td>S</td>\n",
       "    </tr>\n",
       "    <tr>\n",
       "      <th>3</th>\n",
       "      <td>4</td>\n",
       "      <td>80</td>\n",
       "      <td>1</td>\n",
       "      <td>normal_room</td>\n",
       "      <td>N</td>\n",
       "    </tr>\n",
       "    <tr>\n",
       "      <th>4</th>\n",
       "      <td>5</td>\n",
       "      <td>150</td>\n",
       "      <td>50</td>\n",
       "      <td>conference_room_large</td>\n",
       "      <td>L</td>\n",
       "    </tr>\n",
       "  </tbody>\n",
       "</table>\n",
       "</div>"
      ],
      "text/plain": [
       "   id  price/day  capacity                   type prefix\n",
       "0   1        150         3            deluxe_room      X\n",
       "1   2        100         3            double_room      D\n",
       "2   3         80        15  conference_room_small      S\n",
       "3   4         80         1            normal_room      N\n",
       "4   5        150        50  conference_room_large      L"
      ]
     },
     "execution_count": 15,
     "metadata": {},
     "output_type": "execute_result"
    }
   ],
   "source": [
    "rooms = pd.read_table(\"D:/hotel analysis/rooms.txt\",delimiter=\"|\")\n",
    "rooms.head()"
   ]
  },
  {
   "cell_type": "markdown",
   "metadata": {},
   "source": [
    "### Room type popularity\n",
    "<a id='room_type'></a>"
   ]
  },
  {
   "cell_type": "code",
   "execution_count": 16,
   "metadata": {
    "collapsed": false
   },
   "outputs": [
    {
     "name": "stdout",
     "output_type": "stream",
     "text": [
      "normal_room              0.2048\n",
      "conference_room_small    0.2030\n",
      "deluxe_room              0.2010\n",
      "double_room              0.2004\n",
      "conference_room_large    0.1908\n",
      "Name: room_type, dtype: float64\n"
     ]
    },
    {
     "data": {
      "text/plain": [
       "<matplotlib.axes._subplots.AxesSubplot at 0x1fac5baa198>"
      ]
     },
     "execution_count": 16,
     "metadata": {},
     "output_type": "execute_result"
    },
    {
     "data": {
      "image/png": "[encoded data removed]",
      "text/plain": [
       "<matplotlib.figure.Figure at 0x1fac5b905c0>"
      ]
     },
     "metadata": {},
     "output_type": "display_data"
    }
   ],
   "source": [
    "print(request.room_type.value_counts(normalize=True))\n",
    "fig,ax = plt.subplots(figsize=(15,5))\n",
    "sns.countplot(x=\"room_type\",data=request,ax=ax)\n"
   ]
  },
  {
   "cell_type": "code",
   "execution_count": 17,
   "metadata": {
    "collapsed": false
   },
   "outputs": [],
   "source": [
    "request.loc[(request['request_type'] == \"holiday\"),'request_type'] = \"vacation\"\n"
   ]
  },
  {
   "cell_type": "markdown",
   "metadata": {},
   "source": [
    "### Ratio of request types\n",
    "<a id=\"ratio\"></a>\n"
   ]
  },
  {
   "cell_type": "code",
   "execution_count": 18,
   "metadata": {
    "collapsed": false
   },
   "outputs": [
    {
     "name": "stdout",
     "output_type": "stream",
     "text": [
      "vacation      0.3098\n",
      "business      0.2964\n",
      "wedding       0.1346\n",
      "conference    0.1302\n",
      "party         0.1290\n",
      "Name: request_type, dtype: float64\n"
     ]
    },
    {
     "data": {
      "text/plain": [
       "<matplotlib.axes._subplots.AxesSubplot at 0x1fac5abc828>"
      ]
     },
     "execution_count": 18,
     "metadata": {},
     "output_type": "execute_result"
    },
    {
     "data": {
      "image/png": "[encoded data removed]",
      "text/plain": [
       "<matplotlib.figure.Figure at 0x1fac5b905f8>"
      ]
     },
     "metadata": {},
     "output_type": "display_data"
    }
   ],
   "source": [
    "print(request.request_type.value_counts(normalize=True))\n",
    "fig,ax = plt.subplots(figsize=(15,5))\n",
    "sns.countplot(x=\"request_type\",data=request,ax=ax,)"
   ]
  },
  {
   "cell_type": "markdown",
   "metadata": {},
   "source": [
    "vacation and business type booking requests are the most prominant and these would be the hotels key customer segement"
   ]
  },
  {
   "cell_type": "code",
   "execution_count": 19,
   "metadata": {
    "collapsed": false
   },
   "outputs": [
    {
     "data": {
      "text/plain": [
       "1245"
      ]
     },
     "execution_count": 19,
     "metadata": {},
     "output_type": "execute_result"
    }
   ],
   "source": [
    "#times the food was delivered outside the resturant\n",
    "len(food_orders.loc[food_orders.dest_room != 'restaurant'])"
   ]
  },
  {
   "cell_type": "markdown",
   "metadata": {},
   "source": [
    "# indentifying unconfirmed requests\n",
    "People can make a request for a room, but that does not mean this person is guaranteed to get the room. People can cancel their request, or not perhaps they don't show up.\n",
    "A request is confirmed if there is an entry in the bookings data for it. "
   ]
  },
  {
   "cell_type": "code",
   "execution_count": 20,
   "metadata": {
    "collapsed": false
   },
   "outputs": [
    {
     "name": "stdout",
     "output_type": "stream",
     "text": [
      "request_id        0\n",
      "client_name       0\n",
      "room_type         0\n",
      "request_type      0\n",
      "start_date_x      0\n",
      "end_date_x        0\n",
      "#adults           0\n",
      "#children         0\n",
      "id              281\n",
      "room            281\n",
      "start_date_y    281\n",
      "end_date_y      281\n",
      "dtype: int64\n"
     ]
    },
    {
     "data": {
      "text/html": [
       "<div>\n",
       "<table border=\"1\" class=\"dataframe\">\n",
       "  <thead>\n",
       "    <tr style=\"text-align: right;\">\n",
       "      <th></th>\n",
       "      <th>request_id</th>\n",
       "      <th>client_name</th>\n",
       "      <th>room_type</th>\n",
       "      <th>request_type</th>\n",
       "      <th>start_date_x</th>\n",
       "      <th>end_date_x</th>\n",
       "      <th>#adults</th>\n",
       "      <th>#children</th>\n",
       "      <th>id</th>\n",
       "      <th>room</th>\n",
       "      <th>start_date_y</th>\n",
       "      <th>end_date_y</th>\n",
       "    </tr>\n",
       "  </thead>\n",
       "  <tbody>\n",
       "    <tr>\n",
       "      <th>0</th>\n",
       "      <td>1</td>\n",
       "      <td>Dr. Iza Gerhold</td>\n",
       "      <td>conference_room_large</td>\n",
       "      <td>conference</td>\n",
       "      <td>2016-02-07</td>\n",
       "      <td>2016-02-10</td>\n",
       "      <td>27</td>\n",
       "      <td>0</td>\n",
       "      <td>1.0</td>\n",
       "      <td>L0</td>\n",
       "      <td>2016-02-07</td>\n",
       "      <td>2016-02-10</td>\n",
       "    </tr>\n",
       "    <tr>\n",
       "      <th>1</th>\n",
       "      <td>2</td>\n",
       "      <td>Ila Sawayn</td>\n",
       "      <td>conference_room_large</td>\n",
       "      <td>conference</td>\n",
       "      <td>2016-03-13</td>\n",
       "      <td>2016-03-21</td>\n",
       "      <td>22</td>\n",
       "      <td>0</td>\n",
       "      <td>2.0</td>\n",
       "      <td>L0</td>\n",
       "      <td>2016-03-13</td>\n",
       "      <td>2016-03-21</td>\n",
       "    </tr>\n",
       "    <tr>\n",
       "      <th>2</th>\n",
       "      <td>3</td>\n",
       "      <td>Iverson McCullough</td>\n",
       "      <td>double_room</td>\n",
       "      <td>business</td>\n",
       "      <td>2016-02-19</td>\n",
       "      <td>2016-02-20</td>\n",
       "      <td>2</td>\n",
       "      <td>1</td>\n",
       "      <td>3.0</td>\n",
       "      <td>D2</td>\n",
       "      <td>2016-02-19</td>\n",
       "      <td>2016-02-20</td>\n",
       "    </tr>\n",
       "    <tr>\n",
       "      <th>3</th>\n",
       "      <td>4</td>\n",
       "      <td>Katharyn Goyette DVM</td>\n",
       "      <td>deluxe_room</td>\n",
       "      <td>business</td>\n",
       "      <td>2016-01-22</td>\n",
       "      <td>2016-01-26</td>\n",
       "      <td>1</td>\n",
       "      <td>0</td>\n",
       "      <td>4.0</td>\n",
       "      <td>X0</td>\n",
       "      <td>2016-01-22</td>\n",
       "      <td>2016-01-26</td>\n",
       "    </tr>\n",
       "    <tr>\n",
       "      <th>4</th>\n",
       "      <td>5</td>\n",
       "      <td>Deloris Vandervort</td>\n",
       "      <td>conference_room_large</td>\n",
       "      <td>party</td>\n",
       "      <td>2016-02-22</td>\n",
       "      <td>2016-02-26</td>\n",
       "      <td>24</td>\n",
       "      <td>26</td>\n",
       "      <td>5.0</td>\n",
       "      <td>L0</td>\n",
       "      <td>2016-02-22</td>\n",
       "      <td>2016-02-26</td>\n",
       "    </tr>\n",
       "  </tbody>\n",
       "</table>\n",
       "</div>"
      ],
      "text/plain": [
       "   request_id           client_name              room_type request_type  \\\n",
       "0           1       Dr. Iza Gerhold  conference_room_large   conference   \n",
       "1           2            Ila Sawayn  conference_room_large   conference   \n",
       "2           3    Iverson McCullough            double_room     business   \n",
       "3           4  Katharyn Goyette DVM            deluxe_room     business   \n",
       "4           5    Deloris Vandervort  conference_room_large        party   \n",
       "\n",
       "  start_date_x end_date_x  #adults  #children   id room start_date_y  \\\n",
       "0   2016-02-07 2016-02-10       27          0  1.0   L0   2016-02-07   \n",
       "1   2016-03-13 2016-03-21       22          0  2.0   L0   2016-03-13   \n",
       "2   2016-02-19 2016-02-20        2          1  3.0   D2   2016-02-19   \n",
       "3   2016-01-22 2016-01-26        1          0  4.0   X0   2016-01-22   \n",
       "4   2016-02-22 2016-02-26       24         26  5.0   L0   2016-02-22   \n",
       "\n",
       "  end_date_y  \n",
       "0 2016-02-10  \n",
       "1 2016-03-21  \n",
       "2 2016-02-20  \n",
       "3 2016-01-26  \n",
       "4 2016-02-26  "
      ]
     },
     "execution_count": 20,
     "metadata": {},
     "output_type": "execute_result"
    }
   ],
   "source": [
    "booking_request = pd.merge(request,bookings,how=\"outer\",on=\"request_id\")\n",
    "print(booking_request.isnull().sum())\n",
    "booking_request.head()"
   ]
  },
  {
   "cell_type": "markdown",
   "metadata": {},
   "source": [
    "281 bookings id are missing from the merged table indicating that 281 request were not confirmed"
   ]
  },
  {
   "cell_type": "code",
   "execution_count": 21,
   "metadata": {
    "collapsed": false
   },
   "outputs": [],
   "source": [
    "confirmed_bookings = booking_request.loc[booking_request.id.notnull()]"
   ]
  },
  {
   "cell_type": "code",
   "execution_count": 22,
   "metadata": {
    "collapsed": false
   },
   "outputs": [
    {
     "name": "stderr",
     "output_type": "stream",
     "text": [
      "C:\\Users\\akheel\\Anaconda3\\lib\\site-packages\\ipykernel\\__main__.py:2: SettingWithCopyWarning: \n",
      "A value is trying to be set on a copy of a slice from a DataFrame.\n",
      "Try using .loc[row_indexer,col_indexer] = value instead\n",
      "\n",
      "See the caveats in the documentation: http://pandas.pydata.org/pandas-docs/stable/indexing.html#indexing-view-versus-copy\n",
      "  from ipykernel import kernelapp as app\n",
      "C:\\Users\\akheel\\Anaconda3\\lib\\site-packages\\ipykernel\\__main__.py:3: SettingWithCopyWarning: \n",
      "A value is trying to be set on a copy of a slice from a DataFrame.\n",
      "Try using .loc[row_indexer,col_indexer] = value instead\n",
      "\n",
      "See the caveats in the documentation: http://pandas.pydata.org/pandas-docs/stable/indexing.html#indexing-view-versus-copy\n",
      "  app.launch_new_instance()\n"
     ]
    }
   ],
   "source": [
    "#calculating and assigining the the duration of stay for confimed bookings\n",
    "confirmed_bookings['duration_of_stay'] = confirmed_bookings.end_date_x-confirmed_bookings.start_date_x\n",
    "confirmed_bookings['duration_of_stay'] = (confirmed_bookings['duration_of_stay'] / np.timedelta64(1,'D')).astype(int)"
   ]
  },
  {
   "cell_type": "markdown",
   "metadata": {},
   "source": [
    "### Room Popularity top 5 rooms\n",
    "<a id='freq_room'></a>"
   ]
  },
  {
   "cell_type": "code",
   "execution_count": 23,
   "metadata": {
    "collapsed": false
   },
   "outputs": [
    {
     "data": {
      "text/plain": [
       "D2     36\n",
       "S16    34\n",
       "S17    33\n",
       "X0     32\n",
       "S15    32\n",
       "Name: room, dtype: int64"
      ]
     },
     "execution_count": 23,
     "metadata": {},
     "output_type": "execute_result"
    }
   ],
   "source": [
    "top_5_rooms=confirmed_bookings.room.value_counts().sort_values(ascending=False)[:5]\n",
    "top_5_rooms"
   ]
  },
  {
   "cell_type": "code",
   "execution_count": 24,
   "metadata": {
    "collapsed": false
   },
   "outputs": [
    {
     "data": {
      "text/html": [
       "<div>\n",
       "<table border=\"1\" class=\"dataframe\">\n",
       "  <thead>\n",
       "    <tr style=\"text-align: right;\">\n",
       "      <th>request_type</th>\n",
       "      <th>business</th>\n",
       "      <th>conference</th>\n",
       "      <th>party</th>\n",
       "      <th>vacation</th>\n",
       "      <th>wedding</th>\n",
       "    </tr>\n",
       "    <tr>\n",
       "      <th>room</th>\n",
       "      <th></th>\n",
       "      <th></th>\n",
       "      <th></th>\n",
       "      <th></th>\n",
       "      <th></th>\n",
       "    </tr>\n",
       "  </thead>\n",
       "  <tbody>\n",
       "    <tr>\n",
       "      <th>D0</th>\n",
       "      <td>13.0</td>\n",
       "      <td>NaN</td>\n",
       "      <td>NaN</td>\n",
       "      <td>17.0</td>\n",
       "      <td>NaN</td>\n",
       "    </tr>\n",
       "    <tr>\n",
       "      <th>D1</th>\n",
       "      <td>8.0</td>\n",
       "      <td>NaN</td>\n",
       "      <td>NaN</td>\n",
       "      <td>15.0</td>\n",
       "      <td>NaN</td>\n",
       "    </tr>\n",
       "    <tr>\n",
       "      <th>D10</th>\n",
       "      <td>13.0</td>\n",
       "      <td>NaN</td>\n",
       "      <td>NaN</td>\n",
       "      <td>14.0</td>\n",
       "      <td>NaN</td>\n",
       "    </tr>\n",
       "    <tr>\n",
       "      <th>D11</th>\n",
       "      <td>12.0</td>\n",
       "      <td>NaN</td>\n",
       "      <td>NaN</td>\n",
       "      <td>12.0</td>\n",
       "      <td>NaN</td>\n",
       "    </tr>\n",
       "    <tr>\n",
       "      <th>D12</th>\n",
       "      <td>12.0</td>\n",
       "      <td>NaN</td>\n",
       "      <td>NaN</td>\n",
       "      <td>9.0</td>\n",
       "      <td>NaN</td>\n",
       "    </tr>\n",
       "  </tbody>\n",
       "</table>\n",
       "</div>"
      ],
      "text/plain": [
       "request_type  business  conference  party  vacation  wedding\n",
       "room                                                        \n",
       "D0                13.0         NaN    NaN      17.0      NaN\n",
       "D1                 8.0         NaN    NaN      15.0      NaN\n",
       "D10               13.0         NaN    NaN      14.0      NaN\n",
       "D11               12.0         NaN    NaN      12.0      NaN\n",
       "D12               12.0         NaN    NaN       9.0      NaN"
      ]
     },
     "execution_count": 24,
     "metadata": {},
     "output_type": "execute_result"
    }
   ],
   "source": [
    "room_popularity = pd.pivot_table(confirmed_bookings,index='room',columns=\"request_type\",values=[''],aggfunc=len)\n",
    "room_popularity.head()"
   ]
  },
  {
   "cell_type": "code",
   "execution_count": 25,
   "metadata": {
    "collapsed": false
   },
   "outputs": [
    {
     "name": "stdout",
     "output_type": "stream",
     "text": [
      "D2\n",
      "business    19\n",
      "vacation    17\n",
      "Name: request_type, dtype: int64\n",
      "\n",
      "S16\n",
      "party         15\n",
      "wedding       12\n",
      "conference     7\n",
      "Name: request_type, dtype: int64\n",
      "\n",
      "S17\n",
      "party         16\n",
      "wedding       12\n",
      "conference     5\n",
      "Name: request_type, dtype: int64\n",
      "\n",
      "X0\n",
      "business    20\n",
      "vacation    12\n",
      "Name: request_type, dtype: int64\n",
      "\n",
      "S15\n",
      "wedding       16\n",
      "party         11\n",
      "conference     5\n",
      "Name: request_type, dtype: int64\n",
      "\n"
     ]
    }
   ],
   "source": [
    "# top 5 rooms request type\n",
    "for room,_ in top_5_rooms.iteritems():\n",
    "    print(room)\n",
    "    print(booking_request[booking_request.room==room]['request_type'].value_counts())\n",
    "    print()"
   ]
  },
  {
   "cell_type": "markdown",
   "metadata": {},
   "source": [
    "room D2 was booked the most for business and vaccation purposes followed by room s16"
   ]
  },
  {
   "cell_type": "markdown",
   "metadata": {
    "collapsed": true
   },
   "source": [
    "## Hotel stay duration\n",
    "<a id=\"stay\"></a>"
   ]
  },
  {
   "cell_type": "code",
   "execution_count": 26,
   "metadata": {
    "collapsed": false
   },
   "outputs": [
    {
     "data": {
      "text/plain": [
       "room_type\n",
       "normal_room              15191\n",
       "conference_room_small    13058\n",
       "double_room               6356\n",
       "deluxe_room               6298\n",
       "conference_room_large     5465\n",
       "Name: duration_of_stay, dtype: int32"
      ]
     },
     "execution_count": 26,
     "metadata": {},
     "output_type": "execute_result"
    }
   ],
   "source": [
    "#total days stayed by room type\n",
    "confirmed_bookings.groupby('room_type')['duration_of_stay'].sum().sort_values(ascending=False)\n"
   ]
  },
  {
   "cell_type": "code",
   "execution_count": 27,
   "metadata": {
    "collapsed": false
   },
   "outputs": [
    {
     "data": {
      "text/plain": [
       "<matplotlib.axes._subplots.AxesSubplot at 0x1fac5bc22b0>"
      ]
     },
     "execution_count": 27,
     "metadata": {},
     "output_type": "execute_result"
    },
    {
     "data": {
      "image/png": "[encoded data removed]",
      "text/plain": [
       "<matplotlib.figure.Figure at 0x1fac60916d8>"
      ]
     },
     "metadata": {},
     "output_type": "display_data"
    }
   ],
   "source": [
    "#Avg days stayed by room type\n",
    "confirmed_bookings.groupby('room_type')['duration_of_stay'].mean().sort_values(ascending=True).plot(kind='Bar')"
   ]
  },
  {
   "cell_type": "code",
   "execution_count": 28,
   "metadata": {
    "collapsed": false
   },
   "outputs": [
    {
     "data": {
      "image/png": "[encoded data removed]",
      "text/plain": [
       "<matplotlib.figure.Figure at 0x1fac624eb70>"
      ]
     },
     "metadata": {},
     "output_type": "display_data"
    }
   ],
   "source": [
    "#histograme of duration stayed by periods\n",
    "fig,ax = plt.subplots()\n",
    "c,b,p = ax.hist(confirmed_bookings['duration_of_stay'],bins=[0,3,6,9,14,21])\n",
    "plt.xticks(b)\n",
    "plt.show()"
   ]
  },
  {
   "cell_type": "code",
   "execution_count": 29,
   "metadata": {
    "collapsed": false
   },
   "outputs": [
    {
     "data": {
      "image/png": "[encoded data removed]",
      "text/plain": [
       "<matplotlib.figure.Figure at 0x1fac6078550>"
      ]
     },
     "metadata": {},
     "output_type": "display_data"
    }
   ],
   "source": [
    "#histograme of duration stayed by indivijual day\n",
    "fig,ax = plt.subplots()\n",
    "c,b,p = ax.hist(confirmed_bookings['duration_of_stay'],bins=30)\n",
    "ax.set_xticks([i for i in range(1,31)])\n",
    "ax.set_xlim(1,30)\n",
    "plt.show()"
   ]
  },
  {
   "cell_type": "markdown",
   "metadata": {},
   "source": [
    "most guest stay between 2 to 4 days on average\n",
    "all rooms have a median stay of 4 days and mean stay between 4-5 days\n",
    "so average stays can be considered 4 days"
   ]
  },
  {
   "cell_type": "markdown",
   "metadata": {},
   "source": [
    "## Analysis of Services provided"
   ]
  },
  {
   "cell_type": "code",
   "execution_count": 51,
   "metadata": {
    "collapsed": false
   },
   "outputs": [
    {
     "name": "stdout",
     "output_type": "stream",
     "text": [
      "<class 'pandas.core.frame.DataFrame'>\n",
      "RangeIndex: 4374 entries, 0 to 4373\n",
      "Data columns (total 4 columns):\n",
      "booking id     4374 non-null object\n",
      "price          4374 non-null int64\n",
      "description    4374 non-null object\n",
      "date           4374 non-null object\n",
      "dtypes: int64(1), object(3)\n",
      "memory usage: 136.8+ KB\n",
      "None\n"
     ]
    }
   ],
   "source": [
    "services = pd.read_table(\"D:/hotel analysis/services.txt\",delimiter=\"|\")\n",
    "print(services.info())\n",
    "cols = [ i.replace(\" \",\"_\") for i in services.columns]\n",
    "services.columns = cols\n",
    "\n",
    "def parse_date(date):\n",
    "    if date == 'None':\n",
    "        return\n",
    "    return datetime.datetime.strptime(date,\"%Y-%m-%d\").date()\n",
    "\n",
    "services.date = services.date.apply(parse_date)"
   ]
  },
  {
   "cell_type": "code",
   "execution_count": 52,
   "metadata": {
    "collapsed": false
   },
   "outputs": [
    {
     "data": {
      "text/plain": [
       "decoration_flowers             1964\n",
       "decoration_party                987\n",
       "amusement_clown                 835\n",
       "amusement_live_music            415\n",
       "decoration_romantic_flowers     131\n",
       "amusement_dj                     39\n",
       "amusement_quartet                 1\n",
       "decoration_party_flowers          1\n",
       "decoration_wedding_flowers        1\n",
       "Name: description, dtype: int64"
      ]
     },
     "execution_count": 52,
     "metadata": {},
     "output_type": "execute_result"
    }
   ],
   "source": [
    "services.description.value_counts()"
   ]
  },
  {
   "cell_type": "code",
   "execution_count": 53,
   "metadata": {
    "collapsed": false
   },
   "outputs": [],
   "source": [
    "#fixing typos in description column\n",
    "services.loc[(services.description == \"decoration_wedding_flowers\") | \\\n",
    "             (services.description == \"decoration_party_flowers\"),'description']='decoration_flowers'\n",
    "services.loc[(services.description == \"amusement_quartet\"),'description']='amusement_live_music'"
   ]
  },
  {
   "cell_type": "code",
   "execution_count": 54,
   "metadata": {
    "collapsed": false
   },
   "outputs": [
    {
     "data": {
      "text/plain": [
       "decoration_flowers             1966\n",
       "decoration_party                987\n",
       "amusement_clown                 835\n",
       "amusement_live_music            416\n",
       "decoration_romantic_flowers     131\n",
       "amusement_dj                     39\n",
       "Name: description, dtype: int64"
      ]
     },
     "execution_count": 54,
     "metadata": {},
     "output_type": "execute_result"
    }
   ],
   "source": [
    "services.description.value_counts()"
   ]
  },
  {
   "cell_type": "code",
   "execution_count": 55,
   "metadata": {
    "collapsed": false
   },
   "outputs": [],
   "source": [
    "#changing the booking tables 'id' column name to 'bookings_id'\n",
    "booking_request.columns = ['request_id', 'client_name', 'room_type', 'request_type',\n",
    "       'start_date_x', 'end_date_x', '#adults', '#children', 'booking_id', 'room',\n",
    "       'start_date_y', 'end_date_y']"
   ]
  },
  {
   "cell_type": "code",
   "execution_count": 56,
   "metadata": {
    "collapsed": false
   },
   "outputs": [],
   "source": [
    "def parse_int(x):\n",
    "    try:\n",
    "        return int(x)\n",
    "    except ValueError:\n",
    "        pass\n",
    "services.booking_id = services.booking_id.apply(parse_int)"
   ]
  },
  {
   "cell_type": "code",
   "execution_count": 57,
   "metadata": {
    "collapsed": false
   },
   "outputs": [],
   "source": [
    "booking_services = pd.merge(services,bookings,how=\"left\",left_on=\"booking_id\",right_on=\"id\")\n",
    "booking_services_request = pd.merge(booking_services,request,how=\"left\",on=\"request_id\")"
   ]
  },
  {
   "cell_type": "code",
   "execution_count": 58,
   "metadata": {
    "collapsed": false
   },
   "outputs": [
    {
     "data": {
      "text/plain": [
       "vacation      1068\n",
       "wedding       1028\n",
       "party          939\n",
       "business       755\n",
       "conference     581\n",
       "Name: request_type, dtype: int64"
      ]
     },
     "execution_count": 58,
     "metadata": {},
     "output_type": "execute_result"
    }
   ],
   "source": [
    "booking_services_request.request_type.value_counts()"
   ]
  },
  {
   "cell_type": "code",
   "execution_count": 59,
   "metadata": {
    "collapsed": false
   },
   "outputs": [
    {
     "data": {
      "text/html": [
       "<div>\n",
       "<table border=\"1\" class=\"dataframe\">\n",
       "  <thead>\n",
       "    <tr>\n",
       "      <th></th>\n",
       "      <th colspan=\"6\" halign=\"left\">price</th>\n",
       "    </tr>\n",
       "    <tr>\n",
       "      <th>request_type</th>\n",
       "      <th>business</th>\n",
       "      <th>conference</th>\n",
       "      <th>party</th>\n",
       "      <th>vacation</th>\n",
       "      <th>wedding</th>\n",
       "      <th>All</th>\n",
       "    </tr>\n",
       "    <tr>\n",
       "      <th>description</th>\n",
       "      <th></th>\n",
       "      <th></th>\n",
       "      <th></th>\n",
       "      <th></th>\n",
       "      <th></th>\n",
       "      <th></th>\n",
       "    </tr>\n",
       "  </thead>\n",
       "  <tbody>\n",
       "    <tr>\n",
       "      <th>amusement_clown</th>\n",
       "      <td>0.0</td>\n",
       "      <td>17700.0</td>\n",
       "      <td>30900.0</td>\n",
       "      <td>0.0</td>\n",
       "      <td>34900.0</td>\n",
       "      <td>83500.0</td>\n",
       "    </tr>\n",
       "    <tr>\n",
       "      <th>amusement_dj</th>\n",
       "      <td>0.0</td>\n",
       "      <td>630.0</td>\n",
       "      <td>1080.0</td>\n",
       "      <td>0.0</td>\n",
       "      <td>1800.0</td>\n",
       "      <td>3510.0</td>\n",
       "    </tr>\n",
       "    <tr>\n",
       "      <th>amusement_live_music</th>\n",
       "      <td>0.0</td>\n",
       "      <td>9700.0</td>\n",
       "      <td>14800.0</td>\n",
       "      <td>0.0</td>\n",
       "      <td>17000.0</td>\n",
       "      <td>41500.0</td>\n",
       "    </tr>\n",
       "    <tr>\n",
       "      <th>decoration_flowers</th>\n",
       "      <td>4840.0</td>\n",
       "      <td>1850.0</td>\n",
       "      <td>3070.0</td>\n",
       "      <td>6820.0</td>\n",
       "      <td>3060.0</td>\n",
       "      <td>19640.0</td>\n",
       "    </tr>\n",
       "    <tr>\n",
       "      <th>decoration_party</th>\n",
       "      <td>4820.0</td>\n",
       "      <td>2140.0</td>\n",
       "      <td>2660.0</td>\n",
       "      <td>6860.0</td>\n",
       "      <td>3260.0</td>\n",
       "      <td>19740.0</td>\n",
       "    </tr>\n",
       "    <tr>\n",
       "      <th>decoration_romantic_flowers</th>\n",
       "      <td>450.0</td>\n",
       "      <td>120.0</td>\n",
       "      <td>450.0</td>\n",
       "      <td>645.0</td>\n",
       "      <td>300.0</td>\n",
       "      <td>1965.0</td>\n",
       "    </tr>\n",
       "    <tr>\n",
       "      <th>All</th>\n",
       "      <td>10110.0</td>\n",
       "      <td>32140.0</td>\n",
       "      <td>52960.0</td>\n",
       "      <td>14325.0</td>\n",
       "      <td>60320.0</td>\n",
       "      <td>169855.0</td>\n",
       "    </tr>\n",
       "  </tbody>\n",
       "</table>\n",
       "</div>"
      ],
      "text/plain": [
       "                               price                                        \\\n",
       "request_type                business conference    party vacation  wedding   \n",
       "description                                                                  \n",
       "amusement_clown                  0.0    17700.0  30900.0      0.0  34900.0   \n",
       "amusement_dj                     0.0      630.0   1080.0      0.0   1800.0   \n",
       "amusement_live_music             0.0     9700.0  14800.0      0.0  17000.0   \n",
       "decoration_flowers            4840.0     1850.0   3070.0   6820.0   3060.0   \n",
       "decoration_party              4820.0     2140.0   2660.0   6860.0   3260.0   \n",
       "decoration_romantic_flowers    450.0      120.0    450.0    645.0    300.0   \n",
       "All                          10110.0    32140.0  52960.0  14325.0  60320.0   \n",
       "\n",
       "                                       \n",
       "request_type                      All  \n",
       "description                            \n",
       "amusement_clown               83500.0  \n",
       "amusement_dj                   3510.0  \n",
       "amusement_live_music          41500.0  \n",
       "decoration_flowers            19640.0  \n",
       "decoration_party              19740.0  \n",
       "decoration_romantic_flowers    1965.0  \n",
       "All                          169855.0  "
      ]
     },
     "execution_count": 59,
     "metadata": {},
     "output_type": "execute_result"
    }
   ],
   "source": [
    "pd.pivot_table(booking_services_request,index='description',\\\n",
    "               columns=\"request_type\",values=['price'],aggfunc={'price':np.sum},fill_value=0,margins=True)"
   ]
  },
  {
   "cell_type": "code",
   "execution_count": 60,
   "metadata": {
    "collapsed": false
   },
   "outputs": [
    {
     "data": {
      "text/plain": [
       "<matplotlib.axes._subplots.AxesSubplot at 0x1fac6d015c0>"
      ]
     },
     "execution_count": 60,
     "metadata": {},
     "output_type": "execute_result"
    },
    {
     "data": {
      "image/png": "[encoded data removed]",
      "text/plain": [
       "<matplotlib.figure.Figure at 0x1fac6a2a278>"
      ]
     },
     "metadata": {},
     "output_type": "display_data"
    }
   ],
   "source": [
    "fig,ax = plt.subplots(figsize=(15,7))\n",
    "sns.countplot(x=\"description\",hue='request_type',data=booking_services_request,ax=ax)"
   ]
  },
  {
   "cell_type": "markdown",
   "metadata": {},
   "source": [
    "<a id=\"service\"></a>\n",
    "decoration flowers is the most requested service but only contributes to 11% of total revenue from services\n",
    "amusement_clown generates the highest revenue 49% of all service revenue but it is the 2nd requested service\n",
    "where as live music contributes only 24.4% to total revenue while in is the 3rd most requested service\n",
    "\n",
    "\n",
    "business request mainly request decoration services while conferences and weddings can take up the full range of services"
   ]
  },
  {
   "cell_type": "markdown",
   "metadata": {},
   "source": [
    "## room with highest revenue\n"
   ]
  },
  {
   "cell_type": "code",
   "execution_count": 61,
   "metadata": {
    "collapsed": false
   },
   "outputs": [
    {
     "data": {
      "text/html": [
       "<div>\n",
       "<table border=\"1\" class=\"dataframe\">\n",
       "  <thead>\n",
       "    <tr style=\"text-align: right;\">\n",
       "      <th></th>\n",
       "      <th>room_type</th>\n",
       "      <th>request_type</th>\n",
       "      <th>id</th>\n",
       "      <th>room</th>\n",
       "      <th>duration_of_stay</th>\n",
       "    </tr>\n",
       "  </thead>\n",
       "  <tbody>\n",
       "    <tr>\n",
       "      <th>0</th>\n",
       "      <td>conference_room_large</td>\n",
       "      <td>conference</td>\n",
       "      <td>1</td>\n",
       "      <td>L0</td>\n",
       "      <td>3</td>\n",
       "    </tr>\n",
       "    <tr>\n",
       "      <th>1</th>\n",
       "      <td>conference_room_large</td>\n",
       "      <td>conference</td>\n",
       "      <td>2</td>\n",
       "      <td>L0</td>\n",
       "      <td>8</td>\n",
       "    </tr>\n",
       "    <tr>\n",
       "      <th>2</th>\n",
       "      <td>double_room</td>\n",
       "      <td>business</td>\n",
       "      <td>3</td>\n",
       "      <td>D2</td>\n",
       "      <td>1</td>\n",
       "    </tr>\n",
       "    <tr>\n",
       "      <th>3</th>\n",
       "      <td>deluxe_room</td>\n",
       "      <td>business</td>\n",
       "      <td>4</td>\n",
       "      <td>X0</td>\n",
       "      <td>4</td>\n",
       "    </tr>\n",
       "    <tr>\n",
       "      <th>4</th>\n",
       "      <td>conference_room_large</td>\n",
       "      <td>party</td>\n",
       "      <td>5</td>\n",
       "      <td>L0</td>\n",
       "      <td>4</td>\n",
       "    </tr>\n",
       "  </tbody>\n",
       "</table>\n",
       "</div>"
      ],
      "text/plain": [
       "               room_type request_type  id room  duration_of_stay\n",
       "0  conference_room_large   conference   1   L0                 3\n",
       "1  conference_room_large   conference   2   L0                 8\n",
       "2            double_room     business   3   D2                 1\n",
       "3            deluxe_room     business   4   X0                 4\n",
       "4  conference_room_large        party   5   L0                 4"
      ]
     },
     "execution_count": 61,
     "metadata": {},
     "output_type": "execute_result"
    }
   ],
   "source": [
    "cb = confirmed_bookings.drop(['request_id', 'client_name', 'start_date_x', 'end_date_x', '#adults', '#children','start_date_y', 'end_date_y'],axis=1)\n",
    "cb.id = cb.id.astype(int)\n",
    "cb.head()"
   ]
  },
  {
   "cell_type": "code",
   "execution_count": 62,
   "metadata": {
    "collapsed": false
   },
   "outputs": [],
   "source": [
    "rooms = rooms[['id','price/day','type']]\n",
    "room_revenue = pd.merge(cb,rooms,how=\"inner\",left_on=\"room_type\",right_on=\"type\")\n",
    "room_revenue.drop([\"id_y\",\"type\"],axis=1,inplace=True)\n",
    "total_room_revenue = room_revenue.groupby('room')['price/day'].sum()"
   ]
  },
  {
   "cell_type": "code",
   "execution_count": 63,
   "metadata": {
    "collapsed": false
   },
   "outputs": [
    {
     "data": {
      "text/html": [
       "<div>\n",
       "<table border=\"1\" class=\"dataframe\">\n",
       "  <thead>\n",
       "    <tr style=\"text-align: right;\">\n",
       "      <th></th>\n",
       "      <th>dest_room</th>\n",
       "      <th>bill_room</th>\n",
       "      <th>date</th>\n",
       "      <th>time</th>\n",
       "      <th>#orders</th>\n",
       "      <th>menu_id</th>\n",
       "      <th>id</th>\n",
       "      <th>name</th>\n",
       "      <th>price</th>\n",
       "      <th>category</th>\n",
       "    </tr>\n",
       "  </thead>\n",
       "  <tbody>\n",
       "    <tr>\n",
       "      <th>0</th>\n",
       "      <td>L0</td>\n",
       "      <td>L0</td>\n",
       "      <td>2016-02-09</td>\n",
       "      <td>2016-09-27 10:15:00</td>\n",
       "      <td>3</td>\n",
       "      <td>6</td>\n",
       "      <td>6</td>\n",
       "      <td>deluxe-breakfast</td>\n",
       "      <td>12.0</td>\n",
       "      <td>breakfast</td>\n",
       "    </tr>\n",
       "    <tr>\n",
       "      <th>1</th>\n",
       "      <td>restaurant</td>\n",
       "      <td>L0</td>\n",
       "      <td>2016-03-05</td>\n",
       "      <td>2016-09-27 10:10:00</td>\n",
       "      <td>3</td>\n",
       "      <td>6</td>\n",
       "      <td>6</td>\n",
       "      <td>deluxe-breakfast</td>\n",
       "      <td>12.0</td>\n",
       "      <td>breakfast</td>\n",
       "    </tr>\n",
       "    <tr>\n",
       "      <th>2</th>\n",
       "      <td>S2</td>\n",
       "      <td>S2</td>\n",
       "      <td>2016-01-14</td>\n",
       "      <td>2016-09-27 02:43:00</td>\n",
       "      <td>5</td>\n",
       "      <td>6</td>\n",
       "      <td>6</td>\n",
       "      <td>deluxe-breakfast</td>\n",
       "      <td>12.0</td>\n",
       "      <td>breakfast</td>\n",
       "    </tr>\n",
       "    <tr>\n",
       "      <th>3</th>\n",
       "      <td>restaurant</td>\n",
       "      <td>D3</td>\n",
       "      <td>2016-03-06</td>\n",
       "      <td>2016-09-27 23:06:00</td>\n",
       "      <td>5</td>\n",
       "      <td>6</td>\n",
       "      <td>6</td>\n",
       "      <td>deluxe-breakfast</td>\n",
       "      <td>12.0</td>\n",
       "      <td>breakfast</td>\n",
       "    </tr>\n",
       "    <tr>\n",
       "      <th>4</th>\n",
       "      <td>restaurant</td>\n",
       "      <td>L1</td>\n",
       "      <td>2016-04-01</td>\n",
       "      <td>2016-09-27 01:24:00</td>\n",
       "      <td>2</td>\n",
       "      <td>6</td>\n",
       "      <td>6</td>\n",
       "      <td>deluxe-breakfast</td>\n",
       "      <td>12.0</td>\n",
       "      <td>breakfast</td>\n",
       "    </tr>\n",
       "  </tbody>\n",
       "</table>\n",
       "</div>"
      ],
      "text/plain": [
       "    dest_room bill_room       date                time  #orders  menu_id  id  \\\n",
       "0          L0        L0 2016-02-09 2016-09-27 10:15:00        3        6   6   \n",
       "1  restaurant        L0 2016-03-05 2016-09-27 10:10:00        3        6   6   \n",
       "2          S2        S2 2016-01-14 2016-09-27 02:43:00        5        6   6   \n",
       "3  restaurant        D3 2016-03-06 2016-09-27 23:06:00        5        6   6   \n",
       "4  restaurant        L1 2016-04-01 2016-09-27 01:24:00        2        6   6   \n",
       "\n",
       "               name  price   category  \n",
       "0  deluxe-breakfast   12.0  breakfast  \n",
       "1  deluxe-breakfast   12.0  breakfast  \n",
       "2  deluxe-breakfast   12.0  breakfast  \n",
       "3  deluxe-breakfast   12.0  breakfast  \n",
       "4  deluxe-breakfast   12.0  breakfast  "
      ]
     },
     "execution_count": 63,
     "metadata": {},
     "output_type": "execute_result"
    }
   ],
   "source": [
    "room_type_menu_item = pd.merge(food_orders,menu,left_on=\"menu_id\",right_on=\"id\")\n",
    "room_type_menu_item.head()"
   ]
  },
  {
   "cell_type": "code",
   "execution_count": 64,
   "metadata": {
    "collapsed": false
   },
   "outputs": [],
   "source": [
    "total_menu_revenue = room_type_menu_item.groupby('bill_room')['price'].sum()"
   ]
  },
  {
   "cell_type": "code",
   "execution_count": 65,
   "metadata": {
    "collapsed": false
   },
   "outputs": [
    {
     "data": {
      "text/html": [
       "<div>\n",
       "<table border=\"1\" class=\"dataframe\">\n",
       "  <thead>\n",
       "    <tr style=\"text-align: right;\">\n",
       "      <th></th>\n",
       "      <th>booking_id</th>\n",
       "      <th>price</th>\n",
       "      <th>description</th>\n",
       "      <th>date</th>\n",
       "      <th>id</th>\n",
       "      <th>room</th>\n",
       "    </tr>\n",
       "  </thead>\n",
       "  <tbody>\n",
       "    <tr>\n",
       "      <th>0</th>\n",
       "      <td>3</td>\n",
       "      <td>10</td>\n",
       "      <td>decoration_flowers</td>\n",
       "      <td>2016-02-19</td>\n",
       "      <td>3</td>\n",
       "      <td>D2</td>\n",
       "    </tr>\n",
       "    <tr>\n",
       "      <th>1</th>\n",
       "      <td>5</td>\n",
       "      <td>100</td>\n",
       "      <td>amusement_clown</td>\n",
       "      <td>2016-02-25</td>\n",
       "      <td>5</td>\n",
       "      <td>L0</td>\n",
       "    </tr>\n",
       "    <tr>\n",
       "      <th>2</th>\n",
       "      <td>6</td>\n",
       "      <td>10</td>\n",
       "      <td>decoration_flowers</td>\n",
       "      <td>2016-03-22</td>\n",
       "      <td>6</td>\n",
       "      <td>N0</td>\n",
       "    </tr>\n",
       "    <tr>\n",
       "      <th>3</th>\n",
       "      <td>8</td>\n",
       "      <td>20</td>\n",
       "      <td>decoration_party</td>\n",
       "      <td>2016-03-24</td>\n",
       "      <td>8</td>\n",
       "      <td>N2</td>\n",
       "    </tr>\n",
       "    <tr>\n",
       "      <th>4</th>\n",
       "      <td>17</td>\n",
       "      <td>20</td>\n",
       "      <td>decoration_party</td>\n",
       "      <td>2016-02-03</td>\n",
       "      <td>17</td>\n",
       "      <td>D0</td>\n",
       "    </tr>\n",
       "  </tbody>\n",
       "</table>\n",
       "</div>"
      ],
      "text/plain": [
       "   booking_id  price         description        date  id room\n",
       "0           3     10  decoration_flowers  2016-02-19   3   D2\n",
       "1           5    100     amusement_clown  2016-02-25   5   L0\n",
       "2           6     10  decoration_flowers  2016-03-22   6   N0\n",
       "3           8     20    decoration_party  2016-03-24   8   N2\n",
       "4          17     20    decoration_party  2016-02-03  17   D0"
      ]
     },
     "execution_count": 65,
     "metadata": {},
     "output_type": "execute_result"
    }
   ],
   "source": [
    "services = services[services.booking_id.notnull()]\n",
    "services.booking_id = services.booking_id.astype(int)\n",
    "temp_booking = bookings[['id','room']]\n",
    "services_revenue = pd.merge(services,temp_booking,how=\"inner\",left_on=\"booking_id\",right_on=\"id\")\n",
    "services_revenue.head()"
   ]
  },
  {
   "cell_type": "code",
   "execution_count": 66,
   "metadata": {
    "collapsed": false
   },
   "outputs": [],
   "source": [
    "services_revenue = services_revenue[['price',\"room\"]]\n",
    "total_service_revenue = services_revenue.groupby('room')['price'].sum()\n",
    "total_revenue = pd.DataFrame()\n",
    "total_revenue[\"room\"] = total_room_revenue\n",
    "total_revenue[\"menu\"] = total_menu_revenue\n",
    "total_revenue['service'] = total_service_revenue\n",
    "total_revenue['sum'] = total_revenue[\"room\"] + total_revenue[\"menu\"] + total_revenue['service']"
   ]
  },
  {
   "cell_type": "code",
   "execution_count": 67,
   "metadata": {
    "collapsed": false
   },
   "outputs": [],
   "source": [
    "def classify_rooms(x):\n",
    "    if x[0] == 'L':\n",
    "        return \"conference_room_large\"\n",
    "    if x[0] == 'X':\n",
    "        return \"deluxe_room\"\n",
    "    if x[0] == 'D':\n",
    "        return \"double_room\"\n",
    "    if x[0] == 'S':\n",
    "        return \"conference_room_small\"\n",
    "    if x[0] == 'N':\n",
    "        return \"normal_room\""
   ]
  },
  {
   "cell_type": "code",
   "execution_count": 68,
   "metadata": {
    "collapsed": false
   },
   "outputs": [],
   "source": [
    "total_revenue.columns = ['room_revenue', 'menu_revenue', 'service_revenue', 'sum']\n",
    "total_revenue = total_revenue.reset_index()"
   ]
  },
  {
   "cell_type": "code",
   "execution_count": 69,
   "metadata": {
    "collapsed": false
   },
   "outputs": [],
   "source": [
    "total_revenue['room_type'] = total_revenue.room.apply(classify_rooms)"
   ]
  },
  {
   "cell_type": "code",
   "execution_count": 70,
   "metadata": {
    "collapsed": false
   },
   "outputs": [
    {
     "data": {
      "text/html": [
       "<div>\n",
       "<table border=\"1\" class=\"dataframe\">\n",
       "  <thead>\n",
       "    <tr style=\"text-align: right;\">\n",
       "      <th></th>\n",
       "      <th>room_revenue</th>\n",
       "      <th>menu_revenue</th>\n",
       "      <th>service_revenue</th>\n",
       "      <th>sum</th>\n",
       "    </tr>\n",
       "    <tr>\n",
       "      <th>room_type</th>\n",
       "      <th></th>\n",
       "      <th></th>\n",
       "      <th></th>\n",
       "      <th></th>\n",
       "    </tr>\n",
       "  </thead>\n",
       "  <tbody>\n",
       "    <tr>\n",
       "      <th>conference_room_large</th>\n",
       "      <td>179400</td>\n",
       "      <td>14045.5</td>\n",
       "      <td>42055.0</td>\n",
       "      <td>234813.5</td>\n",
       "    </tr>\n",
       "    <tr>\n",
       "      <th>conference_room_small</th>\n",
       "      <td>244000</td>\n",
       "      <td>10165.5</td>\n",
       "      <td>103365.0</td>\n",
       "      <td>351332.0</td>\n",
       "    </tr>\n",
       "    <tr>\n",
       "      <th>deluxe_room</th>\n",
       "      <td>210000</td>\n",
       "      <td>490.0</td>\n",
       "      <td>5645.0</td>\n",
       "      <td>87382.5</td>\n",
       "    </tr>\n",
       "    <tr>\n",
       "      <th>double_room</th>\n",
       "      <td>140700</td>\n",
       "      <td>374.0</td>\n",
       "      <td>5815.0</td>\n",
       "      <td>67273.5</td>\n",
       "    </tr>\n",
       "    <tr>\n",
       "      <th>normal_room</th>\n",
       "      <td>263440</td>\n",
       "      <td>994.5</td>\n",
       "      <td>12975.0</td>\n",
       "      <td>135202.5</td>\n",
       "    </tr>\n",
       "  </tbody>\n",
       "</table>\n",
       "</div>"
      ],
      "text/plain": [
       "                       room_revenue  menu_revenue  service_revenue       sum\n",
       "room_type                                                                   \n",
       "conference_room_large        179400       14045.5          42055.0  234813.5\n",
       "conference_room_small        244000       10165.5         103365.0  351332.0\n",
       "deluxe_room                  210000         490.0           5645.0   87382.5\n",
       "double_room                  140700         374.0           5815.0   67273.5\n",
       "normal_room                  263440         994.5          12975.0  135202.5"
      ]
     },
     "execution_count": 70,
     "metadata": {},
     "output_type": "execute_result"
    }
   ],
   "source": [
    "total_revenue.groupby('room_type').sum()"
   ]
  },
  {
   "cell_type": "markdown",
   "metadata": {
    "collapsed": true
   },
   "source": [
    "normal rooms generate the highest revenue from guest rooms and small conference rooms generate 50% more revennue than large conference rooms\n",
    "<a id=\"revennue\"></a>"
   ]
  }
 ],
 "metadata": {
  "anaconda-cloud": {},
  "kernelspec": {
   "display_name": "Python [Root]",
   "language": "python",
   "name": "Python [Root]"
  },
  "language_info": {
   "codemirror_mode": {
    "name": "ipython",
    "version": 3
   },
   "file_extension": ".py",
   "mimetype": "text/x-python",
   "name": "python",
   "nbconvert_exporter": "python",
   "pygments_lexer": "ipython3",
   "version": "3.5.2"
  }
 },
 "nbformat": 4,
 "nbformat_minor": 0
}
