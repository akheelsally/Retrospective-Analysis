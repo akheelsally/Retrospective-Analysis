{
 "cells": [
  {
   "cell_type": "code",
   "execution_count": 55,
   "metadata": {
    "collapsed": true
   },
   "outputs": [],
   "source": [
    "import pandas as pd\n",
    "import numpy as np\n",
    "import matplotlib.pyplot as plt\n",
    "%matplotlib inline"
   ]
  },
  {
   "cell_type": "code",
   "execution_count": 10,
   "metadata": {
    "collapsed": true
   },
   "outputs": [],
   "source": [
    "sales = pd.read_csv(r\"D:/sales.csv\",parse_dates=[\"date\"])"
   ]
  },
  {
   "cell_type": "code",
   "execution_count": 11,
   "metadata": {
    "collapsed": false
   },
   "outputs": [
    {
     "data": {
      "text/html": [
       "<div>\n",
       "<table border=\"1\" class=\"dataframe\">\n",
       "  <thead>\n",
       "    <tr style=\"text-align: right;\">\n",
       "      <th></th>\n",
       "      <th>Account Number</th>\n",
       "      <th>Account Name</th>\n",
       "      <th>sku</th>\n",
       "      <th>category</th>\n",
       "      <th>quantity</th>\n",
       "      <th>unit price</th>\n",
       "      <th>ext price</th>\n",
       "      <th>date</th>\n",
       "    </tr>\n",
       "  </thead>\n",
       "  <tbody>\n",
       "    <tr>\n",
       "      <th>0</th>\n",
       "      <td>803666</td>\n",
       "      <td>Fritsch-Glover</td>\n",
       "      <td>HX-24728</td>\n",
       "      <td>Belt</td>\n",
       "      <td>1</td>\n",
       "      <td>98.98</td>\n",
       "      <td>98.98</td>\n",
       "      <td>2014-09-28 11:56:02</td>\n",
       "    </tr>\n",
       "    <tr>\n",
       "      <th>1</th>\n",
       "      <td>64898</td>\n",
       "      <td>O'Conner Inc</td>\n",
       "      <td>LK-02338</td>\n",
       "      <td>Shirt</td>\n",
       "      <td>9</td>\n",
       "      <td>34.80</td>\n",
       "      <td>313.20</td>\n",
       "      <td>2014-04-24 16:51:22</td>\n",
       "    </tr>\n",
       "    <tr>\n",
       "      <th>2</th>\n",
       "      <td>423621</td>\n",
       "      <td>Beatty and Sons</td>\n",
       "      <td>ZC-07383</td>\n",
       "      <td>Shirt</td>\n",
       "      <td>12</td>\n",
       "      <td>60.24</td>\n",
       "      <td>722.88</td>\n",
       "      <td>2014-09-17 17:26:22</td>\n",
       "    </tr>\n",
       "    <tr>\n",
       "      <th>3</th>\n",
       "      <td>137865</td>\n",
       "      <td>Gleason, Bogisich and Franecki</td>\n",
       "      <td>QS-76400</td>\n",
       "      <td>Shirt</td>\n",
       "      <td>5</td>\n",
       "      <td>15.25</td>\n",
       "      <td>76.25</td>\n",
       "      <td>2014-01-30 07:34:02</td>\n",
       "    </tr>\n",
       "    <tr>\n",
       "      <th>4</th>\n",
       "      <td>435433</td>\n",
       "      <td>Morissette-Heathcote</td>\n",
       "      <td>RU-25060</td>\n",
       "      <td>Shirt</td>\n",
       "      <td>19</td>\n",
       "      <td>51.83</td>\n",
       "      <td>984.77</td>\n",
       "      <td>2014-08-24 06:18:12</td>\n",
       "    </tr>\n",
       "  </tbody>\n",
       "</table>\n",
       "</div>"
      ],
      "text/plain": [
       "   Account Number                    Account Name       sku category  \\\n",
       "0          803666                  Fritsch-Glover  HX-24728     Belt   \n",
       "1           64898                    O'Conner Inc  LK-02338    Shirt   \n",
       "2          423621                 Beatty and Sons  ZC-07383    Shirt   \n",
       "3          137865  Gleason, Bogisich and Franecki  QS-76400    Shirt   \n",
       "4          435433            Morissette-Heathcote  RU-25060    Shirt   \n",
       "\n",
       "   quantity  unit price  ext price                date  \n",
       "0         1       98.98      98.98 2014-09-28 11:56:02  \n",
       "1         9       34.80     313.20 2014-04-24 16:51:22  \n",
       "2        12       60.24     722.88 2014-09-17 17:26:22  \n",
       "3         5       15.25      76.25 2014-01-30 07:34:02  \n",
       "4        19       51.83     984.77 2014-08-24 06:18:12  "
      ]
     },
     "execution_count": 11,
     "metadata": {},
     "output_type": "execute_result"
    }
   ],
   "source": [
    "sales.head()"
   ]
  },
  {
   "cell_type": "code",
   "execution_count": 30,
   "metadata": {
    "collapsed": false
   },
   "outputs": [
    {
     "data": {
      "text/plain": [
       "count    1000.000000\n",
       "mean       54.066430\n",
       "std        26.068011\n",
       "min        10.010000\n",
       "25%        31.187500\n",
       "50%        53.240000\n",
       "75%        75.100000\n",
       "max       100.000000\n",
       "Name: unit price, dtype: float64"
      ]
     },
     "execution_count": 30,
     "metadata": {},
     "output_type": "execute_result"
    }
   ],
   "source": [
    "sales[\"unit price\"].describe()"
   ]
  },
  {
   "cell_type": "code",
   "execution_count": 27,
   "metadata": {
    "collapsed": false
   },
   "outputs": [],
   "source": [
    "report = pd.pivot_table(sales,index=[\"Account Name\"],values=[\"quantity\",\"ext price\"],columns=[\"category\"],aggfunc=[np.sum],fill_value=\"-\",margins=True)"
   ]
  },
  {
   "cell_type": "code",
   "execution_count": 32,
   "metadata": {
    "collapsed": false
   },
   "outputs": [
    {
     "data": {
      "text/html": [
       "<div>\n",
       "<table border=\"1\" class=\"dataframe\">\n",
       "  <thead>\n",
       "    <tr>\n",
       "      <th></th>\n",
       "      <th colspan=\"8\" halign=\"left\">sum</th>\n",
       "    </tr>\n",
       "    <tr>\n",
       "      <th></th>\n",
       "      <th colspan=\"4\" halign=\"left\">quantity</th>\n",
       "      <th colspan=\"4\" halign=\"left\">ext price</th>\n",
       "    </tr>\n",
       "    <tr>\n",
       "      <th>category</th>\n",
       "      <th>Belt</th>\n",
       "      <th>Shirt</th>\n",
       "      <th>Shoes</th>\n",
       "      <th>All</th>\n",
       "      <th>Belt</th>\n",
       "      <th>Shirt</th>\n",
       "      <th>Shoes</th>\n",
       "      <th>All</th>\n",
       "    </tr>\n",
       "    <tr>\n",
       "      <th>Account Name</th>\n",
       "      <th></th>\n",
       "      <th></th>\n",
       "      <th></th>\n",
       "      <th></th>\n",
       "      <th></th>\n",
       "      <th></th>\n",
       "      <th></th>\n",
       "      <th></th>\n",
       "    </tr>\n",
       "  </thead>\n",
       "  <tbody>\n",
       "    <tr>\n",
       "      <th>Abbott PLC</th>\n",
       "      <td>-</td>\n",
       "      <td>-</td>\n",
       "      <td>19</td>\n",
       "      <td>19.0</td>\n",
       "      <td>-</td>\n",
       "      <td>-</td>\n",
       "      <td>755.44</td>\n",
       "      <td>755.44</td>\n",
       "    </tr>\n",
       "    <tr>\n",
       "      <th>Abbott, Rogahn and Bednar</th>\n",
       "      <td>-</td>\n",
       "      <td>18</td>\n",
       "      <td>-</td>\n",
       "      <td>18.0</td>\n",
       "      <td>-</td>\n",
       "      <td>615.6</td>\n",
       "      <td>-</td>\n",
       "      <td>615.60</td>\n",
       "    </tr>\n",
       "    <tr>\n",
       "      <th>Abshire LLC</th>\n",
       "      <td>-</td>\n",
       "      <td>18</td>\n",
       "      <td>2</td>\n",
       "      <td>20.0</td>\n",
       "      <td>-</td>\n",
       "      <td>720.18</td>\n",
       "      <td>90.34</td>\n",
       "      <td>810.52</td>\n",
       "    </tr>\n",
       "    <tr>\n",
       "      <th>Altenwerth, Stokes and Paucek</th>\n",
       "      <td>-</td>\n",
       "      <td>13</td>\n",
       "      <td>-</td>\n",
       "      <td>13.0</td>\n",
       "      <td>-</td>\n",
       "      <td>843.31</td>\n",
       "      <td>-</td>\n",
       "      <td>843.31</td>\n",
       "    </tr>\n",
       "    <tr>\n",
       "      <th>Ankunding-McCullough</th>\n",
       "      <td>-</td>\n",
       "      <td>2</td>\n",
       "      <td>-</td>\n",
       "      <td>2.0</td>\n",
       "      <td>-</td>\n",
       "      <td>132.3</td>\n",
       "      <td>-</td>\n",
       "      <td>132.30</td>\n",
       "    </tr>\n",
       "  </tbody>\n",
       "</table>\n",
       "</div>"
      ],
      "text/plain": [
       "                                   sum                                      \\\n",
       "                              quantity                   ext price           \n",
       "category                          Belt Shirt Shoes   All      Belt   Shirt   \n",
       "Account Name                                                                 \n",
       "Abbott PLC                           -     -    19  19.0         -       -   \n",
       "Abbott, Rogahn and Bednar            -    18     -  18.0         -   615.6   \n",
       "Abshire LLC                          -    18     2  20.0         -  720.18   \n",
       "Altenwerth, Stokes and Paucek        -    13     -  13.0         -  843.31   \n",
       "Ankunding-McCullough                 -     2     -   2.0         -   132.3   \n",
       "\n",
       "                                               \n",
       "                                               \n",
       "category                        Shoes     All  \n",
       "Account Name                                   \n",
       "Abbott PLC                     755.44  755.44  \n",
       "Abbott, Rogahn and Bednar           -  615.60  \n",
       "Abshire LLC                     90.34  810.52  \n",
       "Altenwerth, Stokes and Paucek       -  843.31  \n",
       "Ankunding-McCullough                -  132.30  "
      ]
     },
     "execution_count": 32,
     "metadata": {},
     "output_type": "execute_result"
    }
   ],
   "source": [
    "report.head()"
   ]
  },
  {
   "cell_type": "code",
   "execution_count": 34,
   "metadata": {
    "collapsed": false
   },
   "outputs": [],
   "source": [
    "customer = sales[[\"Account Name\",\"ext price\",\"date\"]]"
   ]
  },
  {
   "cell_type": "code",
   "execution_count": 82,
   "metadata": {
    "collapsed": false
   },
   "outputs": [
    {
     "data": {
      "text/html": [
       "<div>\n",
       "<table border=\"1\" class=\"dataframe\">\n",
       "  <thead>\n",
       "    <tr style=\"text-align: right;\">\n",
       "      <th></th>\n",
       "      <th>ext price</th>\n",
       "    </tr>\n",
       "    <tr>\n",
       "      <th>Account Name</th>\n",
       "      <th></th>\n",
       "    </tr>\n",
       "  </thead>\n",
       "  <tbody>\n",
       "    <tr>\n",
       "      <th>D'Amore PLC</th>\n",
       "      <td>3529.41</td>\n",
       "    </tr>\n",
       "    <tr>\n",
       "      <th>Wilderman Group</th>\n",
       "      <td>3466.92</td>\n",
       "    </tr>\n",
       "    <tr>\n",
       "      <th>Hilll, Schultz and Braun</th>\n",
       "      <td>3390.29</td>\n",
       "    </tr>\n",
       "    <tr>\n",
       "      <th>Kuvalis-Roberts</th>\n",
       "      <td>3296.00</td>\n",
       "    </tr>\n",
       "    <tr>\n",
       "      <th>Mills Inc</th>\n",
       "      <td>2852.69</td>\n",
       "    </tr>\n",
       "  </tbody>\n",
       "</table>\n",
       "</div>"
      ],
      "text/plain": [
       "                          ext price\n",
       "Account Name                       \n",
       "D'Amore PLC                 3529.41\n",
       "Wilderman Group             3466.92\n",
       "Hilll, Schultz and Braun    3390.29\n",
       "Kuvalis-Roberts             3296.00\n",
       "Mills Inc                   2852.69"
      ]
     },
     "execution_count": 82,
     "metadata": {},
     "output_type": "execute_result"
    }
   ],
   "source": [
    "sales_totals = customer.groupby([\"Account Name\"]).sum().sort_values(ascending=False,by=\"ext price\")\n",
    "sales_totals.head()"
   ]
  },
  {
   "cell_type": "code",
   "execution_count": 88,
   "metadata": {
    "collapsed": false
   },
   "outputs": [
    {
     "data": {
      "text/plain": [
       "<matplotlib.text.Text at 0x21e753b7fd0>"
      ]
     },
     "execution_count": 88,
     "metadata": {},
     "output_type": "execute_result"
    },
    {
     "data": {
      "image/png": "[encoded data removed]",
      "text/plain": [
       "<matplotlib.figure.Figure at 0x21e753703c8>"
      ]
     },
     "metadata": {},
     "output_type": "display_data"
    }
   ],
   "source": [
    "sales_totals[:15].sort_values(ascending=True,by=\"ext price\").plot(kind=\"barh\",legend=None,title=\"Top 15 customers\")\n",
    "plt.xlabel(\"Total purcahse\")\n",
    "plt.ylabel(\"\")"
   ]
  },
  {
   "cell_type": "code",
   "execution_count": 90,
   "metadata": {
    "collapsed": false
   },
   "outputs": [
    {
     "data": {
      "text/html": [
       "<div>\n",
       "<table border=\"1\" class=\"dataframe\">\n",
       "  <thead>\n",
       "    <tr style=\"text-align: right;\">\n",
       "      <th></th>\n",
       "      <th>Account Name</th>\n",
       "      <th>category</th>\n",
       "      <th>ext price</th>\n",
       "      <th>date</th>\n",
       "    </tr>\n",
       "  </thead>\n",
       "  <tbody>\n",
       "    <tr>\n",
       "      <th>0</th>\n",
       "      <td>Fritsch-Glover</td>\n",
       "      <td>Belt</td>\n",
       "      <td>98.98</td>\n",
       "      <td>2014-09-28 11:56:02</td>\n",
       "    </tr>\n",
       "    <tr>\n",
       "      <th>1</th>\n",
       "      <td>O'Conner Inc</td>\n",
       "      <td>Shirt</td>\n",
       "      <td>313.20</td>\n",
       "      <td>2014-04-24 16:51:22</td>\n",
       "    </tr>\n",
       "    <tr>\n",
       "      <th>2</th>\n",
       "      <td>Beatty and Sons</td>\n",
       "      <td>Shirt</td>\n",
       "      <td>722.88</td>\n",
       "      <td>2014-09-17 17:26:22</td>\n",
       "    </tr>\n",
       "    <tr>\n",
       "      <th>3</th>\n",
       "      <td>Gleason, Bogisich and Franecki</td>\n",
       "      <td>Shirt</td>\n",
       "      <td>76.25</td>\n",
       "      <td>2014-01-30 07:34:02</td>\n",
       "    </tr>\n",
       "    <tr>\n",
       "      <th>4</th>\n",
       "      <td>Morissette-Heathcote</td>\n",
       "      <td>Shirt</td>\n",
       "      <td>984.77</td>\n",
       "      <td>2014-08-24 06:18:12</td>\n",
       "    </tr>\n",
       "  </tbody>\n",
       "</table>\n",
       "</div>"
      ],
      "text/plain": [
       "                     Account Name category  ext price                date\n",
       "0                  Fritsch-Glover     Belt      98.98 2014-09-28 11:56:02\n",
       "1                    O'Conner Inc    Shirt     313.20 2014-04-24 16:51:22\n",
       "2                 Beatty and Sons    Shirt     722.88 2014-09-17 17:26:22\n",
       "3  Gleason, Bogisich and Franecki    Shirt      76.25 2014-01-30 07:34:02\n",
       "4            Morissette-Heathcote    Shirt     984.77 2014-08-24 06:18:12"
      ]
     },
     "execution_count": 90,
     "metadata": {},
     "output_type": "execute_result"
    }
   ],
   "source": [
    "customers = sales[['Account Name','category','ext price','date']]\n",
    "customers.head()"
   ]
  },
  {
   "cell_type": "code",
   "execution_count": 113,
   "metadata": {
    "collapsed": false
   },
   "outputs": [
    {
     "data": {
      "text/plain": [
       "<matplotlib.legend.Legend at 0x21e79921a58>"
      ]
     },
     "execution_count": 113,
     "metadata": {},
     "output_type": "execute_result"
    },
    {
     "data": {
      "image/png": "[encoded data removed]",
      "text/plain": [
       "<matplotlib.figure.Figure at 0x21e7b05ea58>"
      ]
     },
     "metadata": {},
     "output_type": "display_data"
    }
   ],
   "source": [
    "category_sales = customers.groupby([\"Account Name\",\"category\"]).sum()\n",
    "\n",
    "category_sales.unstack().dropna().plot(kind=\"barh\",\n",
    "                                       stacked=True,\n",
    "                                       title=\"Customers who purchase full range\",\n",
    "                                       figsize=(8,8))\n",
    "\n",
    "plt.xlabel(\"Purchase\")\n",
    "\n",
    "plt.legend([\"Belts\",\"Shirts\",\"Shoes\"],\n",
    "           loc= 1,ncol=4)"
   ]
  },
  {
   "cell_type": "code",
   "execution_count": 120,
   "metadata": {
    "collapsed": false
   },
   "outputs": [
    {
     "data": {
      "text/plain": [
       "<matplotlib.text.Text at 0x21e7c7339e8>"
      ]
     },
     "execution_count": 120,
     "metadata": {},
     "output_type": "execute_result"
    },
    {
     "data": {
      "image/png": "[encoded data removed]",
      "text/plain": [
       "<matplotlib.figure.Figure at 0x21e7c492860>"
      ]
     },
     "metadata": {},
     "output_type": "display_data"
    }
   ],
   "source": [
    "purchase_pattern = sales[[\"ext price\",\"date\"]]\n",
    "purchase_pattern[\"ext price\"].hist(bins=20)\n",
    "plt.title(\"Purchase patterns\")\n",
    "plt.xlabel(\"Order amount($)\")\n",
    "plt.ylabel(\"Number of orders\")\n"
   ]
  },
  {
   "cell_type": "code",
   "execution_count": 121,
   "metadata": {
    "collapsed": true
   },
   "outputs": [],
   "source": [
    "purchase_pattern = purchase_pattern.set_index(\"date\")"
   ]
  },
  {
   "cell_type": "code",
   "execution_count": 131,
   "metadata": {
    "collapsed": false
   },
   "outputs": [
    {
     "data": {
      "text/plain": [
       "<matplotlib.axes._subplots.AxesSubplot at 0x21e7c738c88>"
      ]
     },
     "execution_count": 131,
     "metadata": {},
     "output_type": "execute_result"
    },
    {
     "data": {
      "image/png": "[encoded data removed]",
      "text/plain": [
       "<matplotlib.figure.Figure at 0x21e7c72e668>"
      ]
     },
     "metadata": {},
     "output_type": "display_data"
    }
   ],
   "source": [
    "purchase_pattern.resample(\"M\").sum().plot(title=\"Total sales by month\")"
   ]
  },
  {
   "cell_type": "code",
   "execution_count": null,
   "metadata": {
    "collapsed": true
   },
   "outputs": [],
   "source": []
  }
 ],
 "metadata": {
  "kernelspec": {
   "display_name": "Python [Root]",
   "language": "python",
   "name": "Python [Root]"
  },
  "language_info": {
   "codemirror_mode": {
    "name": "ipython",
    "version": 3
   },
   "file_extension": ".py",
   "mimetype": "text/x-python",
   "name": "python",
   "nbconvert_exporter": "python",
   "pygments_lexer": "ipython3",
   "version": "3.5.2"
  }
 },
 "nbformat": 4,
 "nbformat_minor": 0
}
